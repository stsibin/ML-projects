{
  "nbformat": 4,
  "nbformat_minor": 0,
  "metadata": {
    "colab": {
      "name": "Final Regression Hous Price.ipynb",
      "provenance": [],
      "toc_visible": true,
      "mount_file_id": "1Z6cEvK094YL7jWaO1VWR9e54ftkpQQ_K",
      "authorship_tag": "ABX9TyPgKO66R/saqwlc+igA/PSl",
      "include_colab_link": true
    },
    "kernelspec": {
      "name": "python3",
      "display_name": "Python 3"
    }
  },
  "cells": [
    {
      "cell_type": "markdown",
      "metadata": {
        "id": "view-in-github",
        "colab_type": "text"
      },
      "source": [
        "<a href=\"https://colab.research.google.com/github/stsibin/ML-projects/blob/master/Final_Regression_Hous_Price.ipynb\" target=\"_parent\"><img src=\"https://colab.research.google.com/assets/colab-badge.svg\" alt=\"Open In Colab\"/></a>"
      ]
    },
    {
      "cell_type": "code",
      "metadata": {
        "id": "ZdwlgrQGTqYi",
        "colab_type": "code",
        "colab": {}
      },
      "source": [
        "import pandas as pd\n",
        "import numpy as np\n",
        "import seaborn as sns\n",
        "import matplotlib.pyplot as plt\n",
        "%matplotlib inline\n",
        "from sklearn.model_selection import train_test_split,GridSearchCV\n",
        "from sklearn.base import BaseEstimator, TransformerMixin\n",
        "from sklearn.impute import SimpleImputer\n",
        "from sklearn.preprocessing import OneHotEncoder,FunctionTransformer,StandardScaler\n",
        "from sklearn.compose import ColumnTransformer\n",
        "from sklearn.pipeline import Pipeline\n",
        "from sklearn.metrics import mean_squared_error\n",
        "from sklearn.linear_model import Ridge,ElasticNet,Lasso\n",
        "from sklearn.svm import SVR\n",
        "from sklearn.ensemble import RandomForestRegressor,StackingRegressor\n",
        "from xgboost import XGBRegressor\n",
        "from lightgbm import LGBMRegressor"
      ],
      "execution_count": null,
      "outputs": []
    },
    {
      "cell_type": "code",
      "metadata": {
        "id": "rqZPg4XBGj8W",
        "colab_type": "code",
        "colab": {}
      },
      "source": [
        "data = pd.read_csv('/content/drive/My Drive/Colab Notebooks/Kaggle Datasets/House Prices: Advanced Regression Techniques/train.csv')\n",
        "sub_data = pd.read_csv('/content/drive/My Drive/Colab Notebooks/Kaggle Datasets/House Prices: Advanced Regression Techniques/test.csv')\n",
        "submission_id = sub_data['Id']\n",
        "#data.isna().sum().sort_values(ascending = False).head(20)"
      ],
      "execution_count": null,
      "outputs": []
    },
    {
      "cell_type": "code",
      "metadata": {
        "id": "eyRVX1nEGqGf",
        "colab_type": "code",
        "colab": {}
      },
      "source": [
        "data.drop(['Id','Utilities','Street'], axis=1, inplace=True)\n",
        "data['Electrical'] = data['Electrical'].fillna(data['Electrical'].mode()[0])\n",
        "data['MSSubClass'] = data['MSSubClass'].astype('object')\n",
        "data['YearBuilt'] = data['YearBuilt'].astype('object')\n",
        "data['YearRemodAdd'] = data['YearRemodAdd'].astype('object')\n",
        "data['MoSold'] = data['MoSold'].astype('object')\n",
        "data['YrSold'] = data['YrSold'].astype('object')\n",
        "cal_to_none = ['Alley','Fence','MiscFeature','PoolQC','GarageFinish','GarageQual','GarageCond','GarageType','FireplaceQu','MasVnrType','BsmtQual','BsmtCond','BsmtExposure','BsmtFinType1','BsmtFinType2',]\n",
        "cat_to_zero = ['MasVnrArea','GarageYrBlt']\n",
        "for col in cal_to_none:\n",
        "    data[col] = data[col].fillna('None')\n",
        "for col in cat_to_zero:\n",
        "    data[col] = data[col].fillna(0)\n",
        "data = data.drop(data[data['LotFrontage']>300].index)\n",
        "data = data.drop(data[data['MasVnrArea']>1200].index)\n",
        "data = data.drop(data[data['GrLivArea']>4600].index)\n",
        "data = data.drop(data[data['GarageArea']>1200].index)\n",
        "data = data.drop(data[data['SalePrice']>700000].index)\n",
        "data = data.reset_index(drop=True)\n",
        "data['SalePrice'] = np.log1p(data['SalePrice'])\n",
        "data['YrBltAndRemod']=data['YearBuilt']+data['YearRemodAdd']\n",
        "data['TotalSF']=data['TotalBsmtSF'] + data['1stFlrSF'] + data['2ndFlrSF']\n",
        "\n",
        "data['Total_sqr_footage'] = (data['BsmtFinSF1'] + data['BsmtFinSF2'] +\n",
        "                                 data['1stFlrSF'] + data['2ndFlrSF'])\n",
        "\n",
        "data['Total_Bathrooms'] = (data['FullBath'] + (0.5 * data['HalfBath']) +\n",
        "                               data['BsmtFullBath'] + (0.5 * data['BsmtHalfBath']))\n",
        "\n",
        "data['Total_porch_sf'] = (data['OpenPorchSF'] + data['3SsnPorch'] +\n",
        "                              data['EnclosedPorch'] + data['ScreenPorch'] +\n",
        "                              data['WoodDeckSF'])\n",
        "data['haspool'] = data['PoolArea'].apply(lambda x: 1 if x > 0 else 0)\n",
        "data['has2ndfloor'] = data['2ndFlrSF'].apply(lambda x: 1 if x > 0 else 0)\n",
        "data['hasgarage'] = data['GarageArea'].apply(lambda x: 1 if x > 0 else 0)\n",
        "data['hasbsmt'] = data['TotalBsmtSF'].apply(lambda x: 1 if x > 0 else 0)\n",
        "data['hasfireplace'] = data['Fireplaces'].apply(lambda x: 1 if x > 0 else 0)"
      ],
      "execution_count": null,
      "outputs": []
    },
    {
      "cell_type": "code",
      "metadata": {
        "id": "NupFs39KASta",
        "colab_type": "code",
        "cellView": "both",
        "colab": {}
      },
      "source": [
        "def preprocessing(df):\n",
        "    df.drop(['Id','Utilities','Street'], axis=1, inplace=True)\n",
        "    #df['SalePrice'] = np.log1p(df['SalePrice'])\n",
        "    df['Electrical'] = df['Electrical'].fillna(df['Electrical'].mode()[0])\n",
        "    df['MSSubClass'] = df['MSSubClass'].astype('object')\n",
        "    df['YearBuilt'] = df['YearBuilt'].astype('object')\n",
        "    df['YearRemodAdd'] = df['YearRemodAdd'].astype('object')\n",
        "    df['MoSold'] = df['MoSold'].astype('object')\n",
        "    df['YrSold'] = df['YrSold'].astype('object')\n",
        "    cal_to_none = ['Alley','Fence','MiscFeature','PoolQC','GarageFinish','GarageQual','GarageCond','GarageType','FireplaceQu','MasVnrType','BsmtQual','BsmtCond','BsmtExposure','BsmtFinType1','BsmtFinType2',]\n",
        "    cat_to_zero = ['MasVnrArea','GarageYrBlt']\n",
        "    for col in cal_to_none:\n",
        "        df[col] = df[col].fillna('None')\n",
        "    for col in cat_to_zero:\n",
        "        df[col] = df[col].fillna(0)\n",
        "    df['YrBltAndRemod']=df['YearBuilt']+df['YearRemodAdd']\n",
        "    df['TotalSF']=df['TotalBsmtSF'] + df['1stFlrSF'] + df['2ndFlrSF']\n",
        "\n",
        "    df['Total_sqr_footage'] = (df['BsmtFinSF1'] + df['BsmtFinSF2'] +\n",
        "                                    df['1stFlrSF'] + df['2ndFlrSF'])\n",
        "\n",
        "    df['Total_Bathrooms'] = (df['FullBath'] + (0.5 * df['HalfBath']) +\n",
        "                                df['BsmtFullBath'] + (0.5 * df['BsmtHalfBath']))\n",
        "\n",
        "    df['Total_porch_sf'] = (df['OpenPorchSF'] + df['3SsnPorch'] +\n",
        "                                df['EnclosedPorch'] + df['ScreenPorch'] +\n",
        "                                df['WoodDeckSF'])\n",
        "    df['haspool'] = df['PoolArea'].apply(lambda x: 1 if x > 0 else 0)\n",
        "    df['has2ndfloor'] = df['2ndFlrSF'].apply(lambda x: 1 if x > 0 else 0)\n",
        "    df['hasgarage'] = df['GarageArea'].apply(lambda x: 1 if x > 0 else 0)\n",
        "    df['hasbsmt'] = df['TotalBsmtSF'].apply(lambda x: 1 if x > 0 else 0)\n",
        "    df['hasfireplace'] = df['Fireplaces'].apply(lambda x: 1 if x > 0 else 0)\n",
        "\n",
        "    return df"
      ],
      "execution_count": null,
      "outputs": []
    },
    {
      "cell_type": "code",
      "metadata": {
        "id": "lH8WIYG8bzWh",
        "colab_type": "code",
        "colab": {}
      },
      "source": [
        "# num_cols = data.dtypes[data.dtypes != 'object'].index\n",
        "# corrmat = data[num_cols].corr()\n",
        "# #print(corrmat.shape)\n",
        "# top15_cols = corrmat.nlargest(15, 'SalePrice')['SalePrice'].index"
      ],
      "execution_count": null,
      "outputs": []
    },
    {
      "cell_type": "code",
      "metadata": {
        "id": "QT5JWNHccAfI",
        "colab_type": "code",
        "colab": {}
      },
      "source": [
        "# corrmat_top15 = data[top15_cols].corr()\n",
        "# fig, ax = plt.subplots(figsize = (20,20))\n",
        "# sns.heatmap(corrmat_top15, fmt='.2f', annot=True, annot_kws={'size': 10})"
      ],
      "execution_count": null,
      "outputs": []
    },
    {
      "cell_type": "code",
      "metadata": {
        "id": "gLrxkisbcAn0",
        "colab_type": "code",
        "colab": {}
      },
      "source": [
        "# fig, ax = plt.subplots(3,2, figsize = (15,15))\n",
        "# sns.scatterplot(data['SalePrice'], data['GarageCars'],ax = ax[0][0])\n",
        "# sns.scatterplot(data['SalePrice'], data['GarageArea'],ax =ax[0][1])\n",
        "# sns.scatterplot(data['SalePrice'], data['TotalBsmtSF'],ax = ax[1][0])\n",
        "# sns.scatterplot(data['SalePrice'], data['1stFlrSF'],ax = ax[1][1])\n",
        "# sns.scatterplot(data['SalePrice'], data['TotRmsAbvGrd'],ax = ax[2][0])\n",
        "# sns.scatterplot(data['SalePrice'], data['GrLivArea'],ax = ax[2][1])\n"
      ],
      "execution_count": null,
      "outputs": []
    },
    {
      "cell_type": "code",
      "metadata": {
        "id": "ED5Nine4AQ0r",
        "colab_type": "code",
        "colab": {}
      },
      "source": [
        "#data = preprocessing(data)\n",
        "X_train, X_test, y_train, y_test = train_test_split(data.drop('SalePrice', axis=1),\n",
        "                                                    data['SalePrice'],\n",
        "                                                    test_size=0.3,\n",
        "                                                    random_state=42)\n",
        "cat_cols = X_train.dtypes[X_train.dtypes == 'object'].index\n",
        "num_cols = X_train.dtypes[X_train.dtypes != 'object'].index"
      ],
      "execution_count": null,
      "outputs": []
    },
    {
      "cell_type": "code",
      "metadata": {
        "id": "b-GlyVgTDUSN",
        "colab_type": "code",
        "colab": {}
      },
      "source": [
        "Skew_pos_recip = ['MasVnrArea',]\n",
        "Skew_adj_log0_01 = ['1stFlrSF']\n",
        "Skew_adj_log0_1 = ['GrLivArea','Total_sqr_footage']\n",
        "Skew_cbrt = ['TotRmsAbvGrd','Fireplaces','TotalSF']\n",
        "Skew_sqrt = ['Total_Bathrooms']\n",
        "to_correct = Skew_pos_recip+Skew_adj_log0_01+Skew_adj_log0_1+Skew_cbrt+Skew_sqrt\n",
        "num_cols = list(set(num_cols).difference(set(to_correct)))"
      ],
      "execution_count": null,
      "outputs": []
    },
    {
      "cell_type": "code",
      "metadata": {
        "id": "Hllu51CrDUVR",
        "colab_type": "code",
        "colab": {}
      },
      "source": [
        "class CorrLog(BaseEstimator, TransformerMixin):\n",
        "    def __init__(self, lower=0.001, k=0.2):\n",
        "        self.lower = lower\n",
        "        self.k = k\n",
        "        self.mean = None      \n",
        "    def fit(self, X, y=None):\n",
        "        self.mean = np.mean(X)\n",
        "        return self\n",
        "    def transform(self, X):\n",
        "        X = np.log(np.clip(X, self.lower, None) / self.mean + self.k)\n",
        "        return X\n",
        "\n",
        "class PosReciprocal(BaseEstimator, TransformerMixin):\n",
        "    def __init__(self, k=0.01):\n",
        "        self.k=k    \n",
        "    def fit(self, X, y=None):\n",
        "        return self\n",
        "    def transform(self, X):\n",
        "        for col in X:\n",
        "            X = (1 / (X.clip(0.01)))\n",
        "        return X\n"
      ],
      "execution_count": null,
      "outputs": []
    },
    {
      "cell_type": "code",
      "metadata": {
        "id": "uZJR1gr8DUXw",
        "colab_type": "code",
        "colab": {}
      },
      "source": [
        "num_pipe = Pipeline([\n",
        "    ('imp', SimpleImputer(strategy='mean')),\n",
        "    ('scaler', StandardScaler())\n",
        "])\n",
        "num_log_pipe0_01 = Pipeline([\n",
        "    ('imp', SimpleImputer(strategy='mean')),\n",
        "    ('corrlog0_01', CorrLog(k=0.01)),\n",
        "    ('scaler', StandardScaler())\n",
        "])\n",
        "num_log_pipe0_1 = Pipeline([\n",
        "    ('imp', SimpleImputer(strategy='mean')),\n",
        "    ('corrlog0_1', CorrLog(k=0.1)),\n",
        "    ('scaler', StandardScaler())\n",
        "])\n",
        "num_cbrt = Pipeline([\n",
        "    ('imp', SimpleImputer(strategy='mean')),\n",
        "    ('cbrt', FunctionTransformer(np.cbrt, validate=False)),\n",
        "    ('scaler', StandardScaler())\n",
        "])\n",
        "num_sqrt = Pipeline([\n",
        "    ('imp', SimpleImputer(strategy='mean')),\n",
        "    ('sqrt', FunctionTransformer(np.sqrt, validate=False)),\n",
        "    ('scaler', StandardScaler())\n",
        "])\n",
        "num_pos_reciprocal = Pipeline([\n",
        "    ('imp', SimpleImputer(strategy='mean')),\n",
        "    ('pos_reciprocal', PosReciprocal()),\n",
        "    ('scaler', StandardScaler())\n",
        "])\n",
        "cat_pipe = Pipeline([\n",
        "    ('imp', SimpleImputer(strategy='most_frequent')),\n",
        "    ('ohe', OneHotEncoder(sparse=False, handle_unknown='ignore'))\n",
        "])"
      ],
      "execution_count": null,
      "outputs": []
    },
    {
      "cell_type": "code",
      "metadata": {
        "id": "B_YtFgXa4irU",
        "colab_type": "code",
        "colab": {}
      },
      "source": [
        "transformers = [('num', num_pipe, num_cols),\n",
        "                ('cat', cat_pipe, cat_cols),\n",
        "                ('num_log_0_01', num_log_pipe0_01, Skew_adj_log0_01),\n",
        "                ('num_log_0_1', num_log_pipe0_1, Skew_adj_log0_1),\n",
        "                ('num_cbrt', num_cbrt, Skew_cbrt),\n",
        "                ('num_sqrt', num_sqrt, Skew_sqrt),\n",
        "                ('num_pos_reciprocal', num_pos_reciprocal, Skew_pos_recip)]\n",
        "transformer = ColumnTransformer(transformers=transformers)"
      ],
      "execution_count": null,
      "outputs": []
    },
    {
      "cell_type": "code",
      "metadata": {
        "id": "JaveTRluOQDa",
        "colab_type": "code",
        "colab": {}
      },
      "source": [
        "fulldata = pd.read_csv('/content/drive/My Drive/Colab Notebooks/Kaggle Datasets/House Prices: Advanced Regression Techniques/train.csv')\n",
        "fulldata = preprocessing(fulldata)\n",
        "y_fulldata = fulldata.pop('SalePrice').values"
      ],
      "execution_count": null,
      "outputs": []
    },
    {
      "cell_type": "code",
      "metadata": {
        "id": "18qDkHIPsAe0",
        "colab_type": "code",
        "colab": {
          "base_uri": "https://localhost:8080/",
          "height": 34
        },
        "outputId": "c089f23c-911d-4372-cad0-8e26711fa62a"
      },
      "source": [
        "ridge = Ridge(alpha=30.90,\n",
        "              fit_intercept=True,\n",
        "              max_iter=1000,\n",
        "              normalize=False,\n",
        "              random_state=42,\n",
        "              solver='auto',\n",
        "              tol=0.001)\n",
        "pipe_ridge = Pipeline([('tf', transformer), \n",
        "                       ('regressor', ridge)])\n",
        "pipe_ridge.fit(fulldata,y_fulldata)\n",
        "mean_squared_error(y_test, pipe_ridge.predict(X_test), squared=False)"
      ],
      "execution_count": null,
      "outputs": [
        {
          "output_type": "execute_result",
          "data": {
            "text/plain": [
              "0.09805161224457193"
            ]
          },
          "metadata": {
            "tags": []
          },
          "execution_count": 61
        }
      ]
    },
    {
      "cell_type": "code",
      "metadata": {
        "id": "QQtUjPvh8sv5",
        "colab_type": "code",
        "colab": {
          "base_uri": "https://localhost:8080/",
          "height": 34
        },
        "outputId": "cbce1212-4c97-4d9e-e2be-aeac2f3dbd12"
      },
      "source": [
        "\n",
        "elasticnet= ElasticNet(alpha=0.0009,\n",
        "                       copy_X=True,\n",
        "                       fit_intercept=True,\n",
        "                       l1_ratio=0.5,\n",
        "                       max_iter=1000,\n",
        "                       normalize=False,\n",
        "                       positive=False,\n",
        "                       precompute=False,\n",
        "                       random_state=None,\n",
        "                       selection='cyclic',\n",
        "                       tol=0.0001,\n",
        "                       warm_start=False)\n",
        "pipe_elasticnet = Pipeline([('tf', transformer), \n",
        "                 ('regressor',elasticnet)])\n",
        "pipe_elasticnet.fit(fulldata,y_fulldata)\n",
        "mean_squared_error(y_test, pipe_elasticnet.predict(X_test), squared=False)"
      ],
      "execution_count": null,
      "outputs": [
        {
          "output_type": "execute_result",
          "data": {
            "text/plain": [
              "0.09721933057362546"
            ]
          },
          "metadata": {
            "tags": []
          },
          "execution_count": 63
        }
      ]
    },
    {
      "cell_type": "code",
      "metadata": {
        "id": "ThitDktE9zD0",
        "colab_type": "code",
        "colab": {
          "base_uri": "https://localhost:8080/",
          "height": 34
        },
        "outputId": "b1ee6929-3c8d-4f06-8c02-dc4243f03ac1"
      },
      "source": [
        "lasso = Lasso(alpha=0.0006,\n",
        "              copy_X=True,\n",
        "              fit_intercept=True,\n",
        "              max_iter=1000,\n",
        "              normalize=False,\n",
        "              positive=False,\n",
        "              precompute=False,\n",
        "              random_state=None,\n",
        "              selection='cyclic',\n",
        "              tol=0.0001,\n",
        "              warm_start=False)\n",
        "pipe_lasso = Pipeline([('tf', transformer), \n",
        "                ('regressor', lasso)])\n",
        "pipe_lasso.fit(fulldata,y_fulldata)\n",
        "mean_squared_error(y_test, pipe_lasso.predict(X_test), squared=False)"
      ],
      "execution_count": null,
      "outputs": [
        {
          "output_type": "execute_result",
          "data": {
            "text/plain": [
              "0.09897504244582817"
            ]
          },
          "metadata": {
            "tags": []
          },
          "execution_count": 64
        }
      ]
    },
    {
      "cell_type": "code",
      "metadata": {
        "id": "TSXuMFR29zGn",
        "colab_type": "code",
        "colab": {
          "base_uri": "https://localhost:8080/",
          "height": 34
        },
        "outputId": "617847bc-f449-429c-c7f9-a36fb3d21556"
      },
      "source": [
        "svr = SVR(C=4.7521,\n",
        "          epsilon= 0.00012,\n",
        "          gamma=0.000637)\n",
        "pipe_svr = Pipeline([('tf', transformer), \n",
        "                 ('regressor', svr)])\n",
        "pipe_svr.fit(fulldata,y_fulldata)\n",
        "mean_squared_error(y_test, pipe_svr.predict(X_test), squared=False)"
      ],
      "execution_count": null,
      "outputs": [
        {
          "output_type": "execute_result",
          "data": {
            "text/plain": [
              "0.10139101997390464"
            ]
          },
          "metadata": {
            "tags": []
          },
          "execution_count": 65
        }
      ]
    },
    {
      "cell_type": "code",
      "metadata": {
        "id": "lg3FhuY59zNZ",
        "colab_type": "code",
        "colab": {
          "base_uri": "https://localhost:8080/",
          "height": 34
        },
        "outputId": "8a22d583-0d60-41f5-9747-6ea177f4f397"
      },
      "source": [
        "lgbm = LGBMRegressor(max_depth=150,\n",
        "                     feature_fraction=0.68118,\n",
        "                     bagging_freq=3,\n",
        "                     bagging_fraction=0.27943,\n",
        "                     lambda_l2= 0.047509,\n",
        "                     learning_rate=0.009357,\n",
        "                     num_leaves=231,\n",
        "                     n_estimators=1172,\n",
        "                     max_bin=271,\n",
        "                     subsample= 0.47571,\n",
        "                     min_data_in_leaf=5,\n",
        "                     min_sum_hessian_in_leaf=5)\n",
        "pipe_lgbm = Pipeline([('tf', transformer), \n",
        "                 ('regressor',lgbm )])\n",
        "pipe_lgbm.fit(fulldata,y_fulldata)\n",
        "mean_squared_error(y_test, pipe_lgbm.predict(X_test), squared=False)"
      ],
      "execution_count": null,
      "outputs": [
        {
          "output_type": "execute_result",
          "data": {
            "text/plain": [
              "0.039414673540003504"
            ]
          },
          "metadata": {
            "tags": []
          },
          "execution_count": 66
        }
      ]
    },
    {
      "cell_type": "code",
      "metadata": {
        "id": "qyW9glsB9zRj",
        "colab_type": "code",
        "colab": {
          "base_uri": "https://localhost:8080/",
          "height": 52
        },
        "outputId": "a949e7ae-328c-4c22-ba84-79cc8e45825b"
      },
      "source": [
        "xgboost = XGBRegressor(base_score=0.5, \n",
        "                        booster='gbtree', \n",
        "                        colsample_bylevel=1,\n",
        "                        colsample_bynode=1, \n",
        "                        colsample_bytree=0.5, \n",
        "                        early_stopping_rounds=50,\n",
        "                        gamma=0.0006, \n",
        "                        importance_type='gain', \n",
        "                        learning_rate=0.01,\n",
        "                        max_delta_step=0, \n",
        "                        max_depth=3, \n",
        "                        min_child_weight=11, \n",
        "                        missing=None,\n",
        "                        n_estimators=2500, \n",
        "                        n_jobs=1, \n",
        "                        nthread=None, \n",
        "                        objective='reg:linear',\n",
        "                        random_state=42, \n",
        "                        reg_alpha=0.0001, \n",
        "                        reg_lambda=1,\n",
        "                        scale_pos_weight=1, \n",
        "                        seed=None, \n",
        "                        silent=None, \n",
        "                        subsample=0.5,\n",
        "                        verbosity=1)\n",
        "pipe_xgboost = Pipeline([('tf', transformer), \n",
        "                 ('regressor', xgboost )])\n",
        "pipe_xgboost.fit(fulldata,y_fulldata)\n",
        "mean_squared_error(y_test, pipe_xgboost.predict(X_test), squared=False)"
      ],
      "execution_count": null,
      "outputs": [
        {
          "output_type": "stream",
          "text": [
            "[07:24:59] WARNING: /workspace/src/objective/regression_obj.cu:152: reg:linear is now deprecated in favor of reg:squarederror.\n"
          ],
          "name": "stdout"
        },
        {
          "output_type": "execute_result",
          "data": {
            "text/plain": [
              "0.07529981250809115"
            ]
          },
          "metadata": {
            "tags": []
          },
          "execution_count": 67
        }
      ]
    },
    {
      "cell_type": "code",
      "metadata": {
        "id": "jXYZ4Dd3l7WH",
        "colab_type": "code",
        "colab": {
          "base_uri": "https://localhost:8080/",
          "height": 34
        },
        "outputId": "76e13f35-6d24-4c03-ed4a-3cb545b6d50f"
      },
      "source": [
        "estimators=[\n",
        "            ('ridge', pipe_ridge),\n",
        "            ('svr', pipe_svr),\n",
        "            ('lasso',pipe_lasso),\n",
        "            ('elasticnet',pipe_elasticnet),\n",
        "            ('lgbm',pipe_lgbm),\n",
        "            ('xgboost', pipe_xgboost)]\n",
        "stack = StackingRegressor(estimators,\n",
        "                          final_estimator=elasticnet, cv=10,n_jobs=-1)\n",
        "stack.fit(fulldata,y_fulldata)\n",
        "mean_squared_error(y_test, stack.predict(X_test), squared=False)"
      ],
      "execution_count": null,
      "outputs": [
        {
          "output_type": "execute_result",
          "data": {
            "text/plain": [
              "0.07497876492158458"
            ]
          },
          "metadata": {
            "tags": []
          },
          "execution_count": 68
        }
      ]
    },
    {
      "cell_type": "markdown",
      "metadata": {
        "id": "Oe3VTwmS025Z",
        "colab_type": "text"
      },
      "source": [
        "# Submit\n"
      ]
    },
    {
      "cell_type": "code",
      "metadata": {
        "id": "MMSn0GZXR_7P",
        "colab_type": "code",
        "colab": {
          "base_uri": "https://localhost:8080/",
          "height": 52
        },
        "outputId": "3d30b2ed-58d5-4540-a62f-bf14e7470f76"
      },
      "source": [
        "sub_data = pd.read_csv('/content/drive/My Drive/Colab Notebooks/Kaggle Datasets/House Prices: Advanced Regression Techniques/test.csv')\n",
        "sub_data = preprocessing(sub_data)\n",
        "final = np.expm1(stack.predict(sub_data))\n",
        "final"
      ],
      "execution_count": null,
      "outputs": [
        {
          "output_type": "execute_result",
          "data": {
            "text/plain": [
              "array([124574.17823241, 162761.972728  , 182090.37507387, ...,\n",
              "       169713.77272661, 113444.79618908, 220607.93671308])"
            ]
          },
          "metadata": {
            "tags": []
          },
          "execution_count": 72
        }
      ]
    },
    {
      "cell_type": "code",
      "metadata": {
        "id": "F7MS9MnA_C8G",
        "colab_type": "code",
        "colab": {
          "base_uri": "https://localhost:8080/",
          "height": 52
        },
        "outputId": "7e279b79-d63b-47d1-a6f2-35b897d271be"
      },
      "source": [
        "def blend_models_predict(X):\n",
        "    return (\n",
        "        (0.1 * pipe_elasticnet.predict(X)) +\\\n",
        "        # (0.05 * pipe_lasso.predict(X)) +\\\n",
        "        (0.2 * pipe_ridge.predict(X)) +\\\n",
        "        # (0.05 * pipe_svr.predict(X)) +\\\n",
        "        (0.2 * pipe_xgboost.predict(X)) +\\\n",
        "        (0.2 * pipe_lgbm.predict(X)) +\\\n",
        "        (0.3 * stack.predict(X))\n",
        "        )\n",
        "\n",
        "final = np.expm1(blend_models_predict(sub_data))\n",
        "final"
      ],
      "execution_count": null,
      "outputs": [
        {
          "output_type": "execute_result",
          "data": {
            "text/plain": [
              "array([123738.82533227, 162325.08061645, 180054.49112562, ...,\n",
              "       166732.05341539, 112687.85551879, 221691.27661591])"
            ]
          },
          "metadata": {
            "tags": []
          },
          "execution_count": 82
        }
      ]
    },
    {
      "cell_type": "code",
      "metadata": {
        "id": "wDuTu6fqRs3P",
        "colab_type": "code",
        "colab": {}
      },
      "source": [
        "sub_to_upload = pd.DataFrame()\n",
        "sub_to_upload['Id'] = submission_id\n",
        "sub_to_upload['SalePrice'] = final\n",
        "sub_to_upload.to_csv('submission_top_15_11|05|2020_10|49.csv',index=False)"
      ],
      "execution_count": null,
      "outputs": []
    },
    {
      "cell_type": "code",
      "metadata": {
        "id": "JlYd3uwcRtLc",
        "colab_type": "code",
        "colab": {}
      },
      "source": [
        ""
      ],
      "execution_count": null,
      "outputs": []
    }
  ]
}